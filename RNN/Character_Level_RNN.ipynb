{
  "nbformat": 4,
  "nbformat_minor": 0,
  "metadata": {
    "kernelspec": {
      "display_name": "Python [default]",
      "language": "python",
      "name": "python3"
    },
    "language_info": {
      "codemirror_mode": {
        "name": "ipython",
        "version": 3
      },
      "file_extension": ".py",
      "mimetype": "text/x-python",
      "name": "python",
      "nbconvert_exporter": "python",
      "pygments_lexer": "ipython3",
      "version": "3.6.4"
    },
    "colab": {
      "name": "Character_Level_RNN.ipynb",
      "provenance": [],
      "toc_visible": true
    },
    "accelerator": "GPU"
  },
  "cells": [
    {
      "cell_type": "markdown",
      "metadata": {
        "id": "nOp5BTM1abVU",
        "colab_type": "text"
      },
      "source": [
        "# Character-Level LSTM in PyTorch\n",
        "\n",
        "In this notebook, I'll construct a character-level LSTM with PyTorch. The network will train character by character on some text, then generate new text character by character. As an example, I will train on Anna Karenina. **This model will be able to generate new text based on the text from the book!**\n",
        "\n",
        "This network is based off of Andrej Karpathy's [post on RNNs](http://karpathy.github.io/2015/05/21/rnn-effectiveness/) and [implementation in Torch](https://github.com/karpathy/char-rnn). Below is the general architecture of the character-wise RNN.\n",
        "\n",
        "<img src=\"assets/charseq.jpeg\" width=\"500\">"
      ]
    },
    {
      "cell_type": "markdown",
      "metadata": {
        "id": "rrjG2daQabVV",
        "colab_type": "text"
      },
      "source": [
        "First let's load in our required resources for data loading and model creation."
      ]
    },
    {
      "cell_type": "code",
      "metadata": {
        "id": "keJOQpO8abVW",
        "colab_type": "code",
        "colab": {}
      },
      "source": [
        "import numpy as np\n",
        "import torch\n",
        "from torch import nn\n",
        "import torch.nn.functional as F"
      ],
      "execution_count": 3,
      "outputs": []
    },
    {
      "cell_type": "markdown",
      "metadata": {
        "id": "ryjSP3WXabVb",
        "colab_type": "text"
      },
      "source": [
        "## Load in Data\n",
        "\n",
        "Then, we'll load the Anna Karenina text file and convert it into integers for our network to use. "
      ]
    },
    {
      "cell_type": "code",
      "metadata": {
        "id": "lxvM7wk9abVb",
        "colab_type": "code",
        "colab": {}
      },
      "source": [
        "# open text file and read in data as `text`\n",
        "with open('/content/anna.txt', 'r') as f:\n",
        "    text = f.read()"
      ],
      "execution_count": 4,
      "outputs": []
    },
    {
      "cell_type": "markdown",
      "metadata": {
        "id": "XlOkgFD6abVe",
        "colab_type": "text"
      },
      "source": [
        "Let's check out the first 100 characters, make sure everything is peachy. According to the [American Book Review](http://americanbookreview.org/100bestlines.asp), this is the 6th best first line of a book ever."
      ]
    },
    {
      "cell_type": "code",
      "metadata": {
        "id": "AXwUQMb1abVf",
        "colab_type": "code",
        "colab": {
          "base_uri": "https://localhost:8080/",
          "height": 35
        },
        "outputId": "fe7b8466-c300-4147-82bd-3a42e505ad9e"
      },
      "source": [
        "text[:100]"
      ],
      "execution_count": 5,
      "outputs": [
        {
          "output_type": "execute_result",
          "data": {
            "application/vnd.google.colaboratory.intrinsic+json": {
              "type": "string"
            },
            "text/plain": [
              "'Chapter 1\\n\\n\\nHappy families are all alike; every unhappy family is unhappy in its own\\nway.\\n\\nEverythin'"
            ]
          },
          "metadata": {
            "tags": []
          },
          "execution_count": 5
        }
      ]
    },
    {
      "cell_type": "markdown",
      "metadata": {
        "id": "TWzQW8JzabVi",
        "colab_type": "text"
      },
      "source": [
        "### Tokenization\n",
        "\n",
        "In the cells, below, I'm creating a couple **dictionaries** to convert the characters to and from integers. Encoding the characters as integers makes it easier to use as input in the network."
      ]
    },
    {
      "cell_type": "code",
      "metadata": {
        "id": "lRgAEbsqabVj",
        "colab_type": "code",
        "colab": {}
      },
      "source": [
        "# encode the text and map each character to an integer and vice versa\n",
        "\n",
        "# we create two dictionaries:\n",
        "# 1. int2char, which maps integers to characters\n",
        "# 2. char2int, which maps characters to unique integers\n",
        "chars = tuple(set(text))\n",
        "int2char = dict(enumerate(chars))\n",
        "char2int = {ch: ii for ii, ch in int2char.items()}\n",
        "\n",
        "# encode the text\n",
        "encoded = np.array([char2int[ch] for ch in text])"
      ],
      "execution_count": 6,
      "outputs": []
    },
    {
      "cell_type": "markdown",
      "metadata": {
        "id": "SdU_0XHgabVl",
        "colab_type": "text"
      },
      "source": [
        "And we can see those same characters from above, encoded as integers."
      ]
    },
    {
      "cell_type": "code",
      "metadata": {
        "id": "zsRuEMwCabVm",
        "colab_type": "code",
        "colab": {
          "base_uri": "https://localhost:8080/",
          "height": 118
        },
        "outputId": "ac1f2fba-21c0-410b-ea13-961e02cb47de"
      },
      "source": [
        "encoded[:100]"
      ],
      "execution_count": 7,
      "outputs": [
        {
          "output_type": "execute_result",
          "data": {
            "text/plain": [
              "array([14, 80, 63, 13, 30, 40, 29, 72, 76, 82, 82, 82, 70, 63, 13, 13, 81,\n",
              "       72, 59, 63,  5,  4, 48,  4, 40, 20, 72, 63, 29, 40, 72, 63, 48, 48,\n",
              "       72, 63, 48,  4, 12, 40, 15, 72, 40, 41, 40, 29, 81, 72,  6, 28, 80,\n",
              "       63, 13, 13, 81, 72, 59, 63,  5,  4, 48, 81, 72,  4, 20, 72,  6, 28,\n",
              "       80, 63, 13, 13, 81, 72,  4, 28, 72,  4, 30, 20, 72, 26, 39, 28, 82,\n",
              "       39, 63, 81, 60, 82, 82, 62, 41, 40, 29, 81, 30, 80,  4, 28])"
            ]
          },
          "metadata": {
            "tags": []
          },
          "execution_count": 7
        }
      ]
    },
    {
      "cell_type": "markdown",
      "metadata": {
        "id": "DOvw77OGabVo",
        "colab_type": "text"
      },
      "source": [
        "## Pre-processing the data\n",
        "\n",
        "As you can see in our char-RNN image above, our LSTM expects an input that is **one-hot encoded** meaning that each character is converted into an integer (via our created dictionary) and *then* converted into a column vector where only it's corresponding integer index will have the value of 1 and the rest of the vector will be filled with 0's. Since we're one-hot encoding the data, let's make a function to do that!\n"
      ]
    },
    {
      "cell_type": "code",
      "metadata": {
        "id": "m4xYMR0cabVp",
        "colab_type": "code",
        "colab": {}
      },
      "source": [
        "def one_hot_encode(arr, n_labels):\n",
        "    \n",
        "    # Initialize the the encoded array\n",
        "    one_hot = np.zeros((arr.size, n_labels), dtype=np.float32)\n",
        "    \n",
        "    # Fill the appropriate elements with ones\n",
        "    one_hot[np.arange(one_hot.shape[0]), arr.flatten()] = 1.\n",
        "    \n",
        "    # Finally reshape it to get back to the original array\n",
        "    one_hot = one_hot.reshape((*arr.shape, n_labels))\n",
        "    \n",
        "    return one_hot"
      ],
      "execution_count": 8,
      "outputs": []
    },
    {
      "cell_type": "code",
      "metadata": {
        "id": "VTRPqoaqabVu",
        "colab_type": "code",
        "colab": {
          "base_uri": "https://localhost:8080/",
          "height": 67
        },
        "outputId": "c0e90b90-b0fa-42f6-8945-f26fdee779b7"
      },
      "source": [
        "# check that the function works as expected\n",
        "test_seq = np.array([[3, 5, 1]])\n",
        "one_hot = one_hot_encode(test_seq, 8)\n",
        "\n",
        "print(one_hot)"
      ],
      "execution_count": 9,
      "outputs": [
        {
          "output_type": "stream",
          "text": [
            "[[[0. 0. 0. 1. 0. 0. 0. 0.]\n",
            "  [0. 0. 0. 0. 0. 1. 0. 0.]\n",
            "  [0. 1. 0. 0. 0. 0. 0. 0.]]]\n"
          ],
          "name": "stdout"
        }
      ]
    },
    {
      "cell_type": "markdown",
      "metadata": {
        "id": "dP8dM4gyabVw",
        "colab_type": "text"
      },
      "source": [
        "## Making training mini-batches\n",
        "\n",
        "\n",
        "To train on this data, we also want to create mini-batches for training. Remember that we want our batches to be multiple sequences of some desired number of sequence steps. Considering a simple example, our batches would look like this:\n",
        "\n",
        "<img src=\"assets/sequence_batching@1x.png\" width=500px>\n",
        "\n",
        "\n",
        "<br>\n",
        "\n",
        "In this example, we'll take the encoded characters (passed in as the `arr` parameter) and split them into multiple sequences, given by `batch_size`. Each of our sequences will be `seq_length` long.\n",
        "\n",
        "### Creating Batches\n",
        "\n",
        "**1. The first thing we need to do is discard some of the text so we only have completely full mini-batches. **\n",
        "\n",
        "Each batch contains $N \\times M$ characters, where $N$ is the batch size (the number of sequences in a batch) and $M$ is the seq_length or number of time steps in a sequence. Then, to get the total number of batches, $K$, that we can make from the array `arr`, you divide the length of `arr` by the number of characters per batch. Once you know the number of batches, you can get the total number of characters to keep from `arr`, $N * M * K$.\n",
        "\n",
        "**2. After that, we need to split `arr` into $N$ batches. ** \n",
        "\n",
        "You can do this using `arr.reshape(size)` where `size` is a tuple containing the dimensions sizes of the reshaped array. We know we want $N$ sequences in a batch, so let's make that the size of the first dimension. For the second dimension, you can use `-1` as a placeholder in the size, it'll fill up the array with the appropriate data for you. After this, you should have an array that is $N \\times (M * K)$.\n",
        "\n",
        "**3. Now that we have this array, we can iterate through it to get our mini-batches. **\n",
        "\n",
        "The idea is each batch is a $N \\times M$ window on the $N \\times (M * K)$ array. For each subsequent batch, the window moves over by `seq_length`. We also want to create both the input and target arrays. Remember that the targets are just the inputs shifted over by one character. The way I like to do this window is use `range` to take steps of size `n_steps` from $0$ to `arr.shape[1]`, the total number of tokens in each sequence. That way, the integers you get from `range` always point to the start of a batch, and each window is `seq_length` wide.\n",
        "\n",
        "> **TODO:** Write the code for creating batches in the function below. The exercises in this notebook _will not be easy_. I've provided a notebook with solutions alongside this notebook. If you get stuck, checkout the solutions. The most important thing is that you don't copy and paste the code into here, **type out the solution code yourself.**"
      ]
    },
    {
      "cell_type": "code",
      "metadata": {
        "id": "mOW5s2kyabVx",
        "colab_type": "code",
        "colab": {}
      },
      "source": [
        "def get_batches(arr, batch_size, seq_length):\n",
        "    '''Create a generator that returns batches of size\n",
        "       batch_size x seq_length from arr.\n",
        "       \n",
        "       Arguments\n",
        "       ---------\n",
        "       arr: Array you want to make batches from\n",
        "       batch_size: Batch size, the number of sequences per batch\n",
        "       seq_length: Number of encoded chars in a sequence\n",
        "    '''\n",
        "    \n",
        "    batch_size_total = batch_size * seq_length\n",
        "    # total number of batches we can make\n",
        "    n_batches = len(arr)//batch_size_total\n",
        "    \n",
        "    # Keep only enough characters to make full batches\n",
        "    arr = arr[:n_batches * batch_size_total]\n",
        "    # Reshape into batch_size rows\n",
        "    arr = arr.reshape((batch_size, -1))\n",
        "    \n",
        "    # iterate through the array, one sequence at a time\n",
        "    for n in range(0, arr.shape[1], seq_length):\n",
        "        # The features\n",
        "        x = arr[:, n:n+seq_length]\n",
        "        # The targets, shifted by one\n",
        "        y = np.zeros_like(x)\n",
        "        try:\n",
        "            y[:, :-1], y[:, -1] = x[:, 1:], arr[:, n+seq_length]\n",
        "        except IndexError:\n",
        "            y[:, :-1], y[:, -1] = x[:, 1:], arr[:, 0]\n",
        "        yield x, y"
      ],
      "execution_count": 10,
      "outputs": []
    },
    {
      "cell_type": "markdown",
      "metadata": {
        "id": "_e0ReNBrabVz",
        "colab_type": "text"
      },
      "source": [
        "### Test Your Implementation\n",
        "\n",
        "Now I'll make some data sets and we can check out what's going on as we batch data. Here, as an example, I'm going to use a batch size of 8 and 50 sequence steps."
      ]
    },
    {
      "cell_type": "code",
      "metadata": {
        "id": "JMSsngLnabVz",
        "colab_type": "code",
        "colab": {}
      },
      "source": [
        "batches = get_batches(encoded, 8, 50)\n",
        "x, y = next(batches)"
      ],
      "execution_count": 11,
      "outputs": []
    },
    {
      "cell_type": "code",
      "metadata": {
        "id": "aYe2B6KRabV2",
        "colab_type": "code",
        "colab": {
          "base_uri": "https://localhost:8080/",
          "height": 336
        },
        "outputId": "9e84b4ca-05ae-43ea-ebe7-33da8245f6f1"
      },
      "source": [
        "# printing out the first 10 items in a sequence\n",
        "print('x\\n', x[:10, :10])\n",
        "print('\\ny\\n', y[:10, :10])"
      ],
      "execution_count": 12,
      "outputs": [
        {
          "output_type": "stream",
          "text": [
            "x\n",
            " [[14 80 63 13 30 40 29 72 76 82]\n",
            " [20 26 28 72 30 80 63 30 72 63]\n",
            " [40 28 69 72 26 29 72 63 72 59]\n",
            " [20 72 30 80 40 72 57 80  4 40]\n",
            " [72 20 63 39 72 80 40 29 72 30]\n",
            " [57  6 20 20  4 26 28 72 63 28]\n",
            " [72 34 28 28 63 72 80 63 69 72]\n",
            " [37 58 48 26 28 20 12 81 60 72]]\n",
            "\n",
            "y\n",
            " [[80 63 13 30 40 29 72 76 82 82]\n",
            " [26 28 72 30 80 63 30 72 63 30]\n",
            " [28 69 72 26 29 72 63 72 59 26]\n",
            " [72 30 80 40 72 57 80  4 40 59]\n",
            " [20 63 39 72 80 40 29 72 30 40]\n",
            " [ 6 20 20  4 26 28 72 63 28 69]\n",
            " [34 28 28 63 72 80 63 69 72 20]\n",
            " [58 48 26 28 20 12 81 60 72 61]]\n"
          ],
          "name": "stdout"
        }
      ]
    },
    {
      "cell_type": "markdown",
      "metadata": {
        "id": "kV2y6xt0abV4",
        "colab_type": "text"
      },
      "source": [
        "If you implemented `get_batches` correctly, the above output should look something like \n",
        "```\n",
        "x\n",
        " [[25  8 60 11 45 27 28 73  1  2]\n",
        " [17  7 20 73 45  8 60 45 73 60]\n",
        " [27 20 80 73  7 28 73 60 73 65]\n",
        " [17 73 45  8 27 73 66  8 46 27]\n",
        " [73 17 60 12 73  8 27 28 73 45]\n",
        " [66 64 17 17 46  7 20 73 60 20]\n",
        " [73 76 20 20 60 73  8 60 80 73]\n",
        " [47 35 43  7 20 17 24 50 37 73]]\n",
        "\n",
        "y\n",
        " [[ 8 60 11 45 27 28 73  1  2  2]\n",
        " [ 7 20 73 45  8 60 45 73 60 45]\n",
        " [20 80 73  7 28 73 60 73 65  7]\n",
        " [73 45  8 27 73 66  8 46 27 65]\n",
        " [17 60 12 73  8 27 28 73 45 27]\n",
        " [64 17 17 46  7 20 73 60 20 80]\n",
        " [76 20 20 60 73  8 60 80 73 17]\n",
        " [35 43  7 20 17 24 50 37 73 36]]\n",
        " ```\n",
        " although the exact numbers may be different. Check to make sure the data is shifted over one step for `y`."
      ]
    },
    {
      "cell_type": "markdown",
      "metadata": {
        "id": "3-FM1ud0abV5",
        "colab_type": "text"
      },
      "source": [
        "---\n",
        "## Defining the network with PyTorch\n",
        "\n",
        "Below is where you'll define the network.\n",
        "\n",
        "<img src=\"assets/charRNN.png\" width=500px>\n",
        "\n",
        "Next, you'll use PyTorch to define the architecture of the network. We start by defining the layers and operations we want. Then, define a method for the forward pass. You've also been given a method for predicting characters."
      ]
    },
    {
      "cell_type": "markdown",
      "metadata": {
        "id": "b4KhIyKiabV5",
        "colab_type": "text"
      },
      "source": [
        "### Model Structure\n",
        "\n",
        "In `__init__` the suggested structure is as follows:\n",
        "* Create and store the necessary dictionaries (this has been done for you)\n",
        "* Define an LSTM layer that takes as params: an input size (the number of characters), a hidden layer size `n_hidden`, a number of layers `n_layers`, a dropout probability `drop_prob`, and a batch_first boolean (True, since we are batching)\n",
        "* Define a dropout layer with `drop_prob`\n",
        "* Define a fully-connected layer with params: input size `n_hidden` and output size (the number of characters)\n",
        "* Finally, initialize the weights (again, this has been given)\n",
        "\n",
        "Note that some parameters have been named and given in the `__init__` function, and we use them and store them by doing something like `self.drop_prob = drop_prob`."
      ]
    },
    {
      "cell_type": "markdown",
      "metadata": {
        "id": "pUjrAdvpabV6",
        "colab_type": "text"
      },
      "source": [
        "---\n",
        "### LSTM Inputs/Outputs\n",
        "\n",
        "You can create a basic [LSTM layer](https://pytorch.org/docs/stable/nn.html#lstm) as follows\n",
        "\n",
        "```python\n",
        "self.lstm = nn.LSTM(input_size, n_hidden, n_layers, \n",
        "                            dropout=drop_prob, batch_first=True)\n",
        "```\n",
        "\n",
        "where `input_size` is the number of characters this cell expects to see as sequential input, and `n_hidden` is the number of units in the hidden layers in the cell. And we can add dropout by adding a dropout parameter with a specified probability; this will automatically add dropout to the inputs or outputs. Finally, in the `forward` function, we can stack up the LSTM cells into layers using `.view`. With this, you pass in a list of cells and it will send the output of one cell into the next cell.\n",
        "\n",
        "We also need to create an initial hidden state of all zeros. This is done like so\n",
        "\n",
        "```python\n",
        "self.init_hidden()\n",
        "```"
      ]
    },
    {
      "cell_type": "code",
      "metadata": {
        "id": "ctrLiNvoabV6",
        "colab_type": "code",
        "colab": {
          "base_uri": "https://localhost:8080/",
          "height": 34
        },
        "outputId": "079341a2-c451-4a16-9935-c9ffd7a2eec5"
      },
      "source": [
        "# check if GPU is available\n",
        "train_on_gpu = torch.cuda.is_available()\n",
        "if(train_on_gpu):\n",
        "    print('Training on GPU!')\n",
        "else: \n",
        "    print('No GPU available, training on CPU; consider making n_epochs very small.')"
      ],
      "execution_count": 13,
      "outputs": [
        {
          "output_type": "stream",
          "text": [
            "Training on GPU!\n"
          ],
          "name": "stdout"
        }
      ]
    },
    {
      "cell_type": "code",
      "metadata": {
        "id": "FxT97jBWabV9",
        "colab_type": "code",
        "colab": {}
      },
      "source": [
        "class CharRNN(nn.Module):\n",
        "    \n",
        "    def __init__(self, tokens, n_hidden=256, n_layers=2,\n",
        "                               drop_prob=0.5, lr=0.001):\n",
        "        super().__init__()\n",
        "        self.drop_prob = drop_prob\n",
        "        self.n_layers = n_layers\n",
        "        self.n_hidden = n_hidden\n",
        "        self.lr = lr\n",
        "        \n",
        "        # creating character dictionaries\n",
        "        self.chars = tokens\n",
        "        self.int2char = dict(enumerate(self.chars))\n",
        "        self.char2int = {ch: ii for ii, ch in self.int2char.items()}\n",
        "        \n",
        "        ## TODO: define the LSTM\n",
        "        self.lstm = nn.LSTM(len(self.chars), n_hidden, n_layers, \n",
        "                            dropout=drop_prob, batch_first=True)\n",
        "        \n",
        "        ## TODO: define a dropout layer\n",
        "        self.dropout = nn.Dropout(drop_prob)\n",
        "        \n",
        "        ## TODO: define the final, fully-connected output layer\n",
        "        self.fc = nn.Linear(n_hidden, len(self.chars))\n",
        "      \n",
        "    \n",
        "    def forward(self, x, hidden):\n",
        "        ''' Forward pass through the network. \n",
        "            These inputs are x, and the hidden/cell state `hidden`. '''\n",
        "                \n",
        "        ## TODO: Get the outputs and the new hidden state from the lstm\n",
        "        r_output, hidden = self.lstm(x, hidden)\n",
        "        \n",
        "        ## TODO: pass through a dropout layer\n",
        "        out = self.dropout(r_output)\n",
        "        \n",
        "        # Stack up LSTM outputs using view\n",
        "        # you may need to use contiguous to reshape the output\n",
        "        out = out.contiguous().view(-1, self.n_hidden)\n",
        "        \n",
        "        ## TODO: put x through the fully-connected layer\n",
        "        out = self.fc(out)\n",
        "        \n",
        "        # return the final output and the hidden state\n",
        "        return out, hidden\n",
        "    \n",
        "    \n",
        "    def init_hidden(self, batch_size):\n",
        "        ''' Initializes hidden state '''\n",
        "        # Create two new tensors with sizes n_layers x batch_size x n_hidden,\n",
        "        # initialized to zero, for hidden state and cell state of LSTM\n",
        "        weight = next(self.parameters()).data\n",
        "        \n",
        "        if (train_on_gpu):\n",
        "            hidden = (weight.new(self.n_layers, batch_size, self.n_hidden).zero_().cuda(),\n",
        "                  weight.new(self.n_layers, batch_size, self.n_hidden).zero_().cuda())\n",
        "        else:\n",
        "            hidden = (weight.new(self.n_layers, batch_size, self.n_hidden).zero_(),\n",
        "                      weight.new(self.n_layers, batch_size, self.n_hidden).zero_())\n",
        "        \n",
        "        return hidden\n",
        "        "
      ],
      "execution_count": 14,
      "outputs": []
    },
    {
      "cell_type": "markdown",
      "metadata": {
        "id": "eAzfXSDAabWA",
        "colab_type": "text"
      },
      "source": [
        "## Time to train\n",
        "\n",
        "The train function gives us the ability to set the number of epochs, the learning rate, and other parameters.\n",
        "\n",
        "Below we're using an Adam optimizer and cross entropy loss since we are looking at character class scores as output. We calculate the loss and perform backpropagation, as usual!\n",
        "\n",
        "A couple of details about training: \n",
        ">* Within the batch loop, we detach the hidden state from its history; this time setting it equal to a new *tuple* variable because an LSTM has a hidden state that is a tuple of the hidden and cell states.\n",
        "* We use [`clip_grad_norm_`](https://pytorch.org/docs/stable/_modules/torch/nn/utils/clip_grad.html) to help prevent exploding gradients."
      ]
    },
    {
      "cell_type": "code",
      "metadata": {
        "id": "Pgp799YMabWA",
        "colab_type": "code",
        "colab": {}
      },
      "source": [
        "def train(net, data, epochs=10, batch_size=10, seq_length=50, lr=0.001, clip=5, val_frac=0.1, print_every=10):\n",
        "    ''' Training a network \n",
        "    \n",
        "        Arguments\n",
        "        ---------\n",
        "        \n",
        "        net: CharRNN network\n",
        "        data: text data to train the network\n",
        "        epochs: Number of epochs to train\n",
        "        batch_size: Number of mini-sequences per mini-batch, aka batch size\n",
        "        seq_length: Number of character steps per mini-batch\n",
        "        lr: learning rate\n",
        "        clip: gradient clipping\n",
        "        val_frac: Fraction of data to hold out for validation\n",
        "        print_every: Number of steps for printing training and validation loss\n",
        "    \n",
        "    '''\n",
        "    net.train()\n",
        "    \n",
        "    opt = torch.optim.Adam(net.parameters(), lr=lr)\n",
        "    criterion = nn.CrossEntropyLoss()\n",
        "    \n",
        "    # create training and validation data\n",
        "    val_idx = int(len(data)*(1-val_frac))\n",
        "    data, val_data = data[:val_idx], data[val_idx:]\n",
        "    \n",
        "    if(train_on_gpu):\n",
        "        net.cuda()\n",
        "    \n",
        "    counter = 0\n",
        "    n_chars = len(net.chars)\n",
        "    for e in range(epochs):\n",
        "        # initialize hidden state\n",
        "        h = net.init_hidden(batch_size)\n",
        "        \n",
        "        for x, y in get_batches(data, batch_size, seq_length):\n",
        "            counter += 1\n",
        "            \n",
        "            # One-hot encode our data and make them Torch tensors\n",
        "            x = one_hot_encode(x, n_chars)\n",
        "            inputs, targets = torch.from_numpy(x), torch.from_numpy(y)\n",
        "            \n",
        "            if(train_on_gpu):\n",
        "                inputs, targets = inputs.cuda(), targets.cuda()\n",
        "\n",
        "            # Creating new variables for the hidden state, otherwise\n",
        "            # we'd backprop through the entire training history\n",
        "            h = tuple([each.data for each in h])\n",
        "\n",
        "            # zero accumulated gradients\n",
        "            net.zero_grad()\n",
        "            \n",
        "            # get the output from the model\n",
        "            output, h = net(inputs, h)\n",
        "            \n",
        "            # calculate the loss and perform backprop\n",
        "            loss = criterion(output, targets.view(batch_size*seq_length).long())\n",
        "            loss.backward()\n",
        "            # `clip_grad_norm` helps prevent the exploding gradient problem in RNNs / LSTMs.\n",
        "            nn.utils.clip_grad_norm_(net.parameters(), clip)\n",
        "            opt.step()\n",
        "            \n",
        "            # loss stats\n",
        "            if counter % print_every == 0:\n",
        "                # Get validation loss\n",
        "                val_h = net.init_hidden(batch_size)\n",
        "                val_losses = []\n",
        "                net.eval()\n",
        "                for x, y in get_batches(val_data, batch_size, seq_length):\n",
        "                    # One-hot encode our data and make them Torch tensors\n",
        "                    x = one_hot_encode(x, n_chars)\n",
        "                    x, y = torch.from_numpy(x), torch.from_numpy(y)\n",
        "                    \n",
        "                    # Creating new variables for the hidden state, otherwise\n",
        "                    # we'd backprop through the entire training history\n",
        "                    val_h = tuple([each.data for each in val_h])\n",
        "                    \n",
        "                    inputs, targets = x, y\n",
        "                    if(train_on_gpu):\n",
        "                        inputs, targets = inputs.cuda(), targets.cuda()\n",
        "\n",
        "                    output, val_h = net(inputs, val_h)\n",
        "                    val_loss = criterion(output, targets.view(batch_size*seq_length).long())\n",
        "                \n",
        "                    val_losses.append(val_loss.item())\n",
        "                \n",
        "                net.train() # reset to train mode after iterationg through validation data\n",
        "                \n",
        "                print(\"Epoch: {}/{}...\".format(e+1, epochs),\n",
        "                      \"Step: {}...\".format(counter),\n",
        "                      \"Loss: {:.4f}...\".format(loss.item()),\n",
        "                      \"Val Loss: {:.4f}\".format(np.mean(val_losses)))"
      ],
      "execution_count": 15,
      "outputs": []
    },
    {
      "cell_type": "markdown",
      "metadata": {
        "id": "72RRpmJWabWC",
        "colab_type": "text"
      },
      "source": [
        "## Instantiating the model\n",
        "\n",
        "Now we can actually train the network. First we'll create the network itself, with some given hyperparameters. Then, define the mini-batches sizes, and start training!"
      ]
    },
    {
      "cell_type": "code",
      "metadata": {
        "id": "2-ICIRfCabWD",
        "colab_type": "code",
        "colab": {
          "base_uri": "https://localhost:8080/",
          "height": 101
        },
        "outputId": "7ef72bab-4e02-4eec-ad06-ce979c7bcb8b"
      },
      "source": [
        "# define and print the net\n",
        "n_hidden=512\n",
        "n_layers=2\n",
        "\n",
        "net = CharRNN(chars, n_hidden, n_layers)\n",
        "print(net)"
      ],
      "execution_count": 16,
      "outputs": [
        {
          "output_type": "stream",
          "text": [
            "CharRNN(\n",
            "  (lstm): LSTM(83, 512, num_layers=2, batch_first=True, dropout=0.5)\n",
            "  (dropout): Dropout(p=0.5, inplace=False)\n",
            "  (fc): Linear(in_features=512, out_features=83, bias=True)\n",
            ")\n"
          ],
          "name": "stdout"
        }
      ]
    },
    {
      "cell_type": "code",
      "metadata": {
        "scrolled": true,
        "id": "nlffZEm1abWG",
        "colab_type": "code",
        "colab": {
          "base_uri": "https://localhost:8080/",
          "height": 1000
        },
        "outputId": "761e1dd2-3c51-4253-a1db-7a3a2d45031e"
      },
      "source": [
        "batch_size = 128\n",
        "seq_length = 100\n",
        "n_epochs = 20 # start smaller if you are just testing initial behavior\n",
        "\n",
        "# train the model\n",
        "train(net, encoded, epochs=n_epochs, batch_size=batch_size, seq_length=seq_length, lr=0.001, print_every=10)"
      ],
      "execution_count": 17,
      "outputs": [
        {
          "output_type": "stream",
          "text": [
            "Epoch: 1/20... Step: 10... Loss: 3.2452... Val Loss: 3.1961\n",
            "Epoch: 1/20... Step: 20... Loss: 3.1511... Val Loss: 3.1371\n",
            "Epoch: 1/20... Step: 30... Loss: 3.1410... Val Loss: 3.1233\n",
            "Epoch: 1/20... Step: 40... Loss: 3.1126... Val Loss: 3.1187\n",
            "Epoch: 1/20... Step: 50... Loss: 3.1409... Val Loss: 3.1168\n",
            "Epoch: 1/20... Step: 60... Loss: 3.1167... Val Loss: 3.1140\n",
            "Epoch: 1/20... Step: 70... Loss: 3.1026... Val Loss: 3.1104\n",
            "Epoch: 1/20... Step: 80... Loss: 3.1126... Val Loss: 3.1010\n",
            "Epoch: 1/20... Step: 90... Loss: 3.1011... Val Loss: 3.0824\n",
            "Epoch: 1/20... Step: 100... Loss: 3.0674... Val Loss: 3.0547\n",
            "Epoch: 1/20... Step: 110... Loss: 2.9671... Val Loss: 2.9549\n",
            "Epoch: 1/20... Step: 120... Loss: 2.8649... Val Loss: 2.8549\n",
            "Epoch: 1/20... Step: 130... Loss: 2.7550... Val Loss: 2.7123\n",
            "Epoch: 2/20... Step: 140... Loss: 2.6736... Val Loss: 2.6044\n",
            "Epoch: 2/20... Step: 150... Loss: 2.5697... Val Loss: 2.5228\n",
            "Epoch: 2/20... Step: 160... Loss: 2.5083... Val Loss: 2.4730\n",
            "Epoch: 2/20... Step: 170... Loss: 2.4421... Val Loss: 2.4309\n",
            "Epoch: 2/20... Step: 180... Loss: 2.4254... Val Loss: 2.3977\n",
            "Epoch: 2/20... Step: 190... Loss: 2.3686... Val Loss: 2.3688\n",
            "Epoch: 2/20... Step: 200... Loss: 2.3651... Val Loss: 2.3317\n",
            "Epoch: 2/20... Step: 210... Loss: 2.3320... Val Loss: 2.3140\n",
            "Epoch: 2/20... Step: 220... Loss: 2.2889... Val Loss: 2.2754\n",
            "Epoch: 2/20... Step: 230... Loss: 2.2808... Val Loss: 2.2718\n",
            "Epoch: 2/20... Step: 240... Loss: 2.2608... Val Loss: 2.2271\n",
            "Epoch: 2/20... Step: 250... Loss: 2.1972... Val Loss: 2.2025\n",
            "Epoch: 2/20... Step: 260... Loss: 2.1709... Val Loss: 2.1756\n",
            "Epoch: 2/20... Step: 270... Loss: 2.1856... Val Loss: 2.1528\n",
            "Epoch: 3/20... Step: 280... Loss: 2.1743... Val Loss: 2.1322\n",
            "Epoch: 3/20... Step: 290... Loss: 2.1425... Val Loss: 2.1073\n",
            "Epoch: 3/20... Step: 300... Loss: 2.1129... Val Loss: 2.0872\n",
            "Epoch: 3/20... Step: 310... Loss: 2.0902... Val Loss: 2.0712\n",
            "Epoch: 3/20... Step: 320... Loss: 2.0590... Val Loss: 2.0490\n",
            "Epoch: 3/20... Step: 330... Loss: 2.0365... Val Loss: 2.0348\n",
            "Epoch: 3/20... Step: 340... Loss: 2.0577... Val Loss: 2.0142\n",
            "Epoch: 3/20... Step: 350... Loss: 2.0322... Val Loss: 2.0019\n",
            "Epoch: 3/20... Step: 360... Loss: 1.9719... Val Loss: 1.9836\n",
            "Epoch: 3/20... Step: 370... Loss: 1.9987... Val Loss: 1.9613\n",
            "Epoch: 3/20... Step: 380... Loss: 1.9686... Val Loss: 1.9516\n",
            "Epoch: 3/20... Step: 390... Loss: 1.9428... Val Loss: 1.9347\n",
            "Epoch: 3/20... Step: 400... Loss: 1.9144... Val Loss: 1.9186\n",
            "Epoch: 3/20... Step: 410... Loss: 1.9365... Val Loss: 1.9035\n",
            "Epoch: 4/20... Step: 420... Loss: 1.9250... Val Loss: 1.8961\n",
            "Epoch: 4/20... Step: 430... Loss: 1.9124... Val Loss: 1.8738\n",
            "Epoch: 4/20... Step: 440... Loss: 1.8962... Val Loss: 1.8635\n",
            "Epoch: 4/20... Step: 450... Loss: 1.8401... Val Loss: 1.8520\n",
            "Epoch: 4/20... Step: 460... Loss: 1.8261... Val Loss: 1.8418\n",
            "Epoch: 4/20... Step: 470... Loss: 1.8645... Val Loss: 1.8291\n",
            "Epoch: 4/20... Step: 480... Loss: 1.8382... Val Loss: 1.8174\n",
            "Epoch: 4/20... Step: 490... Loss: 1.8499... Val Loss: 1.8078\n",
            "Epoch: 4/20... Step: 500... Loss: 1.8351... Val Loss: 1.7964\n",
            "Epoch: 4/20... Step: 510... Loss: 1.8091... Val Loss: 1.7875\n",
            "Epoch: 4/20... Step: 520... Loss: 1.8280... Val Loss: 1.7774\n",
            "Epoch: 4/20... Step: 530... Loss: 1.7884... Val Loss: 1.7678\n",
            "Epoch: 4/20... Step: 540... Loss: 1.7452... Val Loss: 1.7598\n",
            "Epoch: 4/20... Step: 550... Loss: 1.7967... Val Loss: 1.7483\n",
            "Epoch: 5/20... Step: 560... Loss: 1.7597... Val Loss: 1.7356\n",
            "Epoch: 5/20... Step: 570... Loss: 1.7537... Val Loss: 1.7312\n",
            "Epoch: 5/20... Step: 580... Loss: 1.7286... Val Loss: 1.7197\n",
            "Epoch: 5/20... Step: 590... Loss: 1.7315... Val Loss: 1.7096\n",
            "Epoch: 5/20... Step: 600... Loss: 1.7120... Val Loss: 1.7040\n",
            "Epoch: 5/20... Step: 610... Loss: 1.7042... Val Loss: 1.6980\n",
            "Epoch: 5/20... Step: 620... Loss: 1.7008... Val Loss: 1.6899\n",
            "Epoch: 5/20... Step: 630... Loss: 1.7144... Val Loss: 1.6840\n",
            "Epoch: 5/20... Step: 640... Loss: 1.6901... Val Loss: 1.6761\n",
            "Epoch: 5/20... Step: 650... Loss: 1.6762... Val Loss: 1.6677\n",
            "Epoch: 5/20... Step: 660... Loss: 1.6552... Val Loss: 1.6600\n",
            "Epoch: 5/20... Step: 670... Loss: 1.6846... Val Loss: 1.6547\n",
            "Epoch: 5/20... Step: 680... Loss: 1.6867... Val Loss: 1.6521\n",
            "Epoch: 5/20... Step: 690... Loss: 1.6533... Val Loss: 1.6443\n",
            "Epoch: 6/20... Step: 700... Loss: 1.6584... Val Loss: 1.6354\n",
            "Epoch: 6/20... Step: 710... Loss: 1.6423... Val Loss: 1.6263\n",
            "Epoch: 6/20... Step: 720... Loss: 1.6313... Val Loss: 1.6249\n",
            "Epoch: 6/20... Step: 730... Loss: 1.6500... Val Loss: 1.6211\n",
            "Epoch: 6/20... Step: 740... Loss: 1.6134... Val Loss: 1.6181\n",
            "Epoch: 6/20... Step: 750... Loss: 1.5911... Val Loss: 1.6122\n",
            "Epoch: 6/20... Step: 760... Loss: 1.6387... Val Loss: 1.6063\n",
            "Epoch: 6/20... Step: 770... Loss: 1.6069... Val Loss: 1.5978\n",
            "Epoch: 6/20... Step: 780... Loss: 1.5924... Val Loss: 1.5926\n",
            "Epoch: 6/20... Step: 790... Loss: 1.5841... Val Loss: 1.5898\n",
            "Epoch: 6/20... Step: 800... Loss: 1.5979... Val Loss: 1.5859\n",
            "Epoch: 6/20... Step: 810... Loss: 1.5950... Val Loss: 1.5819\n",
            "Epoch: 6/20... Step: 820... Loss: 1.5501... Val Loss: 1.5805\n",
            "Epoch: 6/20... Step: 830... Loss: 1.5907... Val Loss: 1.5717\n",
            "Epoch: 7/20... Step: 840... Loss: 1.5479... Val Loss: 1.5760\n",
            "Epoch: 7/20... Step: 850... Loss: 1.5633... Val Loss: 1.5648\n",
            "Epoch: 7/20... Step: 860... Loss: 1.5606... Val Loss: 1.5597\n",
            "Epoch: 7/20... Step: 870... Loss: 1.5568... Val Loss: 1.5560\n",
            "Epoch: 7/20... Step: 880... Loss: 1.5659... Val Loss: 1.5525\n",
            "Epoch: 7/20... Step: 890... Loss: 1.5609... Val Loss: 1.5469\n",
            "Epoch: 7/20... Step: 900... Loss: 1.5395... Val Loss: 1.5428\n",
            "Epoch: 7/20... Step: 910... Loss: 1.5159... Val Loss: 1.5432\n",
            "Epoch: 7/20... Step: 920... Loss: 1.5411... Val Loss: 1.5349\n",
            "Epoch: 7/20... Step: 930... Loss: 1.5212... Val Loss: 1.5332\n",
            "Epoch: 7/20... Step: 940... Loss: 1.5230... Val Loss: 1.5315\n",
            "Epoch: 7/20... Step: 950... Loss: 1.5364... Val Loss: 1.5250\n",
            "Epoch: 7/20... Step: 960... Loss: 1.5417... Val Loss: 1.5239\n",
            "Epoch: 7/20... Step: 970... Loss: 1.5356... Val Loss: 1.5196\n",
            "Epoch: 8/20... Step: 980... Loss: 1.5136... Val Loss: 1.5179\n",
            "Epoch: 8/20... Step: 990... Loss: 1.5079... Val Loss: 1.5120\n",
            "Epoch: 8/20... Step: 1000... Loss: 1.5113... Val Loss: 1.5069\n",
            "Epoch: 8/20... Step: 1010... Loss: 1.5536... Val Loss: 1.5062\n",
            "Epoch: 8/20... Step: 1020... Loss: 1.5227... Val Loss: 1.5048\n",
            "Epoch: 8/20... Step: 1030... Loss: 1.4932... Val Loss: 1.5003\n",
            "Epoch: 8/20... Step: 1040... Loss: 1.4997... Val Loss: 1.5025\n",
            "Epoch: 8/20... Step: 1050... Loss: 1.4798... Val Loss: 1.4966\n",
            "Epoch: 8/20... Step: 1060... Loss: 1.4892... Val Loss: 1.4916\n",
            "Epoch: 8/20... Step: 1070... Loss: 1.4978... Val Loss: 1.4911\n",
            "Epoch: 8/20... Step: 1080... Loss: 1.4915... Val Loss: 1.4875\n",
            "Epoch: 8/20... Step: 1090... Loss: 1.4779... Val Loss: 1.4821\n",
            "Epoch: 8/20... Step: 1100... Loss: 1.4652... Val Loss: 1.4808\n",
            "Epoch: 8/20... Step: 1110... Loss: 1.4773... Val Loss: 1.4762\n",
            "Epoch: 9/20... Step: 1120... Loss: 1.4939... Val Loss: 1.4778\n",
            "Epoch: 9/20... Step: 1130... Loss: 1.4744... Val Loss: 1.4703\n",
            "Epoch: 9/20... Step: 1140... Loss: 1.4808... Val Loss: 1.4664\n",
            "Epoch: 9/20... Step: 1150... Loss: 1.4936... Val Loss: 1.4698\n",
            "Epoch: 9/20... Step: 1160... Loss: 1.4466... Val Loss: 1.4642\n",
            "Epoch: 9/20... Step: 1170... Loss: 1.4660... Val Loss: 1.4618\n",
            "Epoch: 9/20... Step: 1180... Loss: 1.4480... Val Loss: 1.4646\n",
            "Epoch: 9/20... Step: 1190... Loss: 1.4850... Val Loss: 1.4590\n",
            "Epoch: 9/20... Step: 1200... Loss: 1.4356... Val Loss: 1.4560\n",
            "Epoch: 9/20... Step: 1210... Loss: 1.4461... Val Loss: 1.4506\n",
            "Epoch: 9/20... Step: 1220... Loss: 1.4486... Val Loss: 1.4507\n",
            "Epoch: 9/20... Step: 1230... Loss: 1.4239... Val Loss: 1.4466\n",
            "Epoch: 9/20... Step: 1240... Loss: 1.4269... Val Loss: 1.4457\n",
            "Epoch: 9/20... Step: 1250... Loss: 1.4436... Val Loss: 1.4418\n",
            "Epoch: 10/20... Step: 1260... Loss: 1.4476... Val Loss: 1.4470\n",
            "Epoch: 10/20... Step: 1270... Loss: 1.4332... Val Loss: 1.4395\n",
            "Epoch: 10/20... Step: 1280... Loss: 1.4522... Val Loss: 1.4356\n",
            "Epoch: 10/20... Step: 1290... Loss: 1.4341... Val Loss: 1.4393\n",
            "Epoch: 10/20... Step: 1300... Loss: 1.4276... Val Loss: 1.4353\n",
            "Epoch: 10/20... Step: 1310... Loss: 1.4315... Val Loss: 1.4318\n",
            "Epoch: 10/20... Step: 1320... Loss: 1.4097... Val Loss: 1.4290\n",
            "Epoch: 10/20... Step: 1330... Loss: 1.4159... Val Loss: 1.4295\n",
            "Epoch: 10/20... Step: 1340... Loss: 1.3919... Val Loss: 1.4278\n",
            "Epoch: 10/20... Step: 1350... Loss: 1.3896... Val Loss: 1.4243\n",
            "Epoch: 10/20... Step: 1360... Loss: 1.3981... Val Loss: 1.4246\n",
            "Epoch: 10/20... Step: 1370... Loss: 1.3880... Val Loss: 1.4274\n",
            "Epoch: 10/20... Step: 1380... Loss: 1.4245... Val Loss: 1.4212\n",
            "Epoch: 10/20... Step: 1390... Loss: 1.4279... Val Loss: 1.4167\n",
            "Epoch: 11/20... Step: 1400... Loss: 1.4358... Val Loss: 1.4180\n",
            "Epoch: 11/20... Step: 1410... Loss: 1.4533... Val Loss: 1.4142\n",
            "Epoch: 11/20... Step: 1420... Loss: 1.4331... Val Loss: 1.4100\n",
            "Epoch: 11/20... Step: 1430... Loss: 1.3977... Val Loss: 1.4135\n",
            "Epoch: 11/20... Step: 1440... Loss: 1.4212... Val Loss: 1.4070\n",
            "Epoch: 11/20... Step: 1450... Loss: 1.3491... Val Loss: 1.4083\n",
            "Epoch: 11/20... Step: 1460... Loss: 1.3771... Val Loss: 1.4066\n",
            "Epoch: 11/20... Step: 1470... Loss: 1.3719... Val Loss: 1.4052\n",
            "Epoch: 11/20... Step: 1480... Loss: 1.3963... Val Loss: 1.4020\n",
            "Epoch: 11/20... Step: 1490... Loss: 1.3827... Val Loss: 1.4008\n",
            "Epoch: 11/20... Step: 1500... Loss: 1.3730... Val Loss: 1.4060\n",
            "Epoch: 11/20... Step: 1510... Loss: 1.3567... Val Loss: 1.4020\n",
            "Epoch: 11/20... Step: 1520... Loss: 1.3957... Val Loss: 1.4015\n",
            "Epoch: 12/20... Step: 1530... Loss: 1.4383... Val Loss: 1.3938\n",
            "Epoch: 12/20... Step: 1540... Loss: 1.3988... Val Loss: 1.3965\n",
            "Epoch: 12/20... Step: 1550... Loss: 1.3936... Val Loss: 1.3913\n",
            "Epoch: 12/20... Step: 1560... Loss: 1.4050... Val Loss: 1.3873\n",
            "Epoch: 12/20... Step: 1570... Loss: 1.3592... Val Loss: 1.3912\n",
            "Epoch: 12/20... Step: 1580... Loss: 1.3281... Val Loss: 1.3881\n",
            "Epoch: 12/20... Step: 1590... Loss: 1.3260... Val Loss: 1.3878\n",
            "Epoch: 12/20... Step: 1600... Loss: 1.3523... Val Loss: 1.3857\n",
            "Epoch: 12/20... Step: 1610... Loss: 1.3535... Val Loss: 1.3892\n",
            "Epoch: 12/20... Step: 1620... Loss: 1.3454... Val Loss: 1.3825\n",
            "Epoch: 12/20... Step: 1630... Loss: 1.3682... Val Loss: 1.3821\n",
            "Epoch: 12/20... Step: 1640... Loss: 1.3383... Val Loss: 1.3851\n",
            "Epoch: 12/20... Step: 1650... Loss: 1.3213... Val Loss: 1.3804\n",
            "Epoch: 12/20... Step: 1660... Loss: 1.3825... Val Loss: 1.3780\n",
            "Epoch: 13/20... Step: 1670... Loss: 1.3554... Val Loss: 1.3776\n",
            "Epoch: 13/20... Step: 1680... Loss: 1.3542... Val Loss: 1.3757\n",
            "Epoch: 13/20... Step: 1690... Loss: 1.3473... Val Loss: 1.3723\n",
            "Epoch: 13/20... Step: 1700... Loss: 1.3371... Val Loss: 1.3711\n",
            "Epoch: 13/20... Step: 1710... Loss: 1.3210... Val Loss: 1.3703\n",
            "Epoch: 13/20... Step: 1720... Loss: 1.3360... Val Loss: 1.3701\n",
            "Epoch: 13/20... Step: 1730... Loss: 1.3656... Val Loss: 1.3698\n",
            "Epoch: 13/20... Step: 1740... Loss: 1.3336... Val Loss: 1.3706\n",
            "Epoch: 13/20... Step: 1750... Loss: 1.2951... Val Loss: 1.3696\n",
            "Epoch: 13/20... Step: 1760... Loss: 1.3278... Val Loss: 1.3683\n",
            "Epoch: 13/20... Step: 1770... Loss: 1.3526... Val Loss: 1.3680\n",
            "Epoch: 13/20... Step: 1780... Loss: 1.3220... Val Loss: 1.3674\n",
            "Epoch: 13/20... Step: 1790... Loss: 1.3142... Val Loss: 1.3623\n",
            "Epoch: 13/20... Step: 1800... Loss: 1.3373... Val Loss: 1.3608\n",
            "Epoch: 14/20... Step: 1810... Loss: 1.3365... Val Loss: 1.3606\n",
            "Epoch: 14/20... Step: 1820... Loss: 1.3196... Val Loss: 1.3598\n",
            "Epoch: 14/20... Step: 1830... Loss: 1.3372... Val Loss: 1.3573\n",
            "Epoch: 14/20... Step: 1840... Loss: 1.2902... Val Loss: 1.3565\n",
            "Epoch: 14/20... Step: 1850... Loss: 1.2706... Val Loss: 1.3542\n",
            "Epoch: 14/20... Step: 1860... Loss: 1.3315... Val Loss: 1.3546\n",
            "Epoch: 14/20... Step: 1870... Loss: 1.3332... Val Loss: 1.3508\n",
            "Epoch: 14/20... Step: 1880... Loss: 1.3260... Val Loss: 1.3531\n",
            "Epoch: 14/20... Step: 1890... Loss: 1.3369... Val Loss: 1.3526\n",
            "Epoch: 14/20... Step: 1900... Loss: 1.3232... Val Loss: 1.3465\n",
            "Epoch: 14/20... Step: 1910... Loss: 1.3127... Val Loss: 1.3460\n",
            "Epoch: 14/20... Step: 1920... Loss: 1.3051... Val Loss: 1.3470\n",
            "Epoch: 14/20... Step: 1930... Loss: 1.2746... Val Loss: 1.3433\n",
            "Epoch: 14/20... Step: 1940... Loss: 1.3358... Val Loss: 1.3396\n",
            "Epoch: 15/20... Step: 1950... Loss: 1.2983... Val Loss: 1.3386\n",
            "Epoch: 15/20... Step: 1960... Loss: 1.2999... Val Loss: 1.3377\n",
            "Epoch: 15/20... Step: 1970... Loss: 1.2917... Val Loss: 1.3343\n",
            "Epoch: 15/20... Step: 1980... Loss: 1.2874... Val Loss: 1.3327\n",
            "Epoch: 15/20... Step: 1990... Loss: 1.2839... Val Loss: 1.3316\n",
            "Epoch: 15/20... Step: 2000... Loss: 1.2717... Val Loss: 1.3330\n",
            "Epoch: 15/20... Step: 2010... Loss: 1.2970... Val Loss: 1.3336\n",
            "Epoch: 15/20... Step: 2020... Loss: 1.3121... Val Loss: 1.3319\n",
            "Epoch: 15/20... Step: 2030... Loss: 1.2694... Val Loss: 1.3394\n",
            "Epoch: 15/20... Step: 2040... Loss: 1.2981... Val Loss: 1.3283\n",
            "Epoch: 15/20... Step: 2050... Loss: 1.2723... Val Loss: 1.3311\n",
            "Epoch: 15/20... Step: 2060... Loss: 1.2937... Val Loss: 1.3282\n",
            "Epoch: 15/20... Step: 2070... Loss: 1.2911... Val Loss: 1.3246\n",
            "Epoch: 15/20... Step: 2080... Loss: 1.2935... Val Loss: 1.3265\n",
            "Epoch: 16/20... Step: 2090... Loss: 1.2857... Val Loss: 1.3295\n",
            "Epoch: 16/20... Step: 2100... Loss: 1.2754... Val Loss: 1.3191\n",
            "Epoch: 16/20... Step: 2110... Loss: 1.2671... Val Loss: 1.3204\n",
            "Epoch: 16/20... Step: 2120... Loss: 1.2764... Val Loss: 1.3169\n",
            "Epoch: 16/20... Step: 2130... Loss: 1.2545... Val Loss: 1.3228\n",
            "Epoch: 16/20... Step: 2140... Loss: 1.2742... Val Loss: 1.3181\n",
            "Epoch: 16/20... Step: 2150... Loss: 1.2992... Val Loss: 1.3227\n",
            "Epoch: 16/20... Step: 2160... Loss: 1.2756... Val Loss: 1.3210\n",
            "Epoch: 16/20... Step: 2170... Loss: 1.2738... Val Loss: 1.3173\n",
            "Epoch: 16/20... Step: 2180... Loss: 1.2584... Val Loss: 1.3132\n",
            "Epoch: 16/20... Step: 2190... Loss: 1.2833... Val Loss: 1.3168\n",
            "Epoch: 16/20... Step: 2200... Loss: 1.2654... Val Loss: 1.3158\n",
            "Epoch: 16/20... Step: 2210... Loss: 1.2332... Val Loss: 1.3122\n",
            "Epoch: 16/20... Step: 2220... Loss: 1.2678... Val Loss: 1.3089\n",
            "Epoch: 17/20... Step: 2230... Loss: 1.2443... Val Loss: 1.3115\n",
            "Epoch: 17/20... Step: 2240... Loss: 1.2609... Val Loss: 1.3055\n",
            "Epoch: 17/20... Step: 2250... Loss: 1.2424... Val Loss: 1.3048\n",
            "Epoch: 17/20... Step: 2260... Loss: 1.2524... Val Loss: 1.3065\n",
            "Epoch: 17/20... Step: 2270... Loss: 1.2625... Val Loss: 1.3074\n",
            "Epoch: 17/20... Step: 2280... Loss: 1.2644... Val Loss: 1.3086\n",
            "Epoch: 17/20... Step: 2290... Loss: 1.2669... Val Loss: 1.3089\n",
            "Epoch: 17/20... Step: 2300... Loss: 1.2294... Val Loss: 1.3091\n",
            "Epoch: 17/20... Step: 2310... Loss: 1.2530... Val Loss: 1.3076\n",
            "Epoch: 17/20... Step: 2320... Loss: 1.2439... Val Loss: 1.3008\n",
            "Epoch: 17/20... Step: 2330... Loss: 1.2395... Val Loss: 1.3054\n",
            "Epoch: 17/20... Step: 2340... Loss: 1.2595... Val Loss: 1.3101\n",
            "Epoch: 17/20... Step: 2350... Loss: 1.2615... Val Loss: 1.3001\n",
            "Epoch: 17/20... Step: 2360... Loss: 1.2608... Val Loss: 1.2996\n",
            "Epoch: 18/20... Step: 2370... Loss: 1.2338... Val Loss: 1.3008\n",
            "Epoch: 18/20... Step: 2380... Loss: 1.2436... Val Loss: 1.2992\n",
            "Epoch: 18/20... Step: 2390... Loss: 1.2446... Val Loss: 1.3020\n",
            "Epoch: 18/20... Step: 2400... Loss: 1.2621... Val Loss: 1.2967\n",
            "Epoch: 18/20... Step: 2410... Loss: 1.2636... Val Loss: 1.2968\n",
            "Epoch: 18/20... Step: 2420... Loss: 1.2367... Val Loss: 1.2987\n",
            "Epoch: 18/20... Step: 2430... Loss: 1.2457... Val Loss: 1.3024\n",
            "Epoch: 18/20... Step: 2440... Loss: 1.2433... Val Loss: 1.2959\n",
            "Epoch: 18/20... Step: 2450... Loss: 1.2286... Val Loss: 1.2965\n",
            "Epoch: 18/20... Step: 2460... Loss: 1.2415... Val Loss: 1.2962\n",
            "Epoch: 18/20... Step: 2470... Loss: 1.2339... Val Loss: 1.2942\n",
            "Epoch: 18/20... Step: 2480... Loss: 1.2325... Val Loss: 1.2929\n",
            "Epoch: 18/20... Step: 2490... Loss: 1.2189... Val Loss: 1.2933\n",
            "Epoch: 18/20... Step: 2500... Loss: 1.2314... Val Loss: 1.2900\n",
            "Epoch: 19/20... Step: 2510... Loss: 1.2387... Val Loss: 1.2926\n",
            "Epoch: 19/20... Step: 2520... Loss: 1.2418... Val Loss: 1.2876\n",
            "Epoch: 19/20... Step: 2530... Loss: 1.2485... Val Loss: 1.2916\n",
            "Epoch: 19/20... Step: 2540... Loss: 1.2623... Val Loss: 1.2926\n",
            "Epoch: 19/20... Step: 2550... Loss: 1.2254... Val Loss: 1.2893\n",
            "Epoch: 19/20... Step: 2560... Loss: 1.2350... Val Loss: 1.2958\n",
            "Epoch: 19/20... Step: 2570... Loss: 1.2267... Val Loss: 1.2898\n",
            "Epoch: 19/20... Step: 2580... Loss: 1.2576... Val Loss: 1.2859\n",
            "Epoch: 19/20... Step: 2590... Loss: 1.2096... Val Loss: 1.2892\n",
            "Epoch: 19/20... Step: 2600... Loss: 1.2108... Val Loss: 1.2843\n",
            "Epoch: 19/20... Step: 2610... Loss: 1.2210... Val Loss: 1.2848\n",
            "Epoch: 19/20... Step: 2620... Loss: 1.2065... Val Loss: 1.2861\n",
            "Epoch: 19/20... Step: 2630... Loss: 1.2096... Val Loss: 1.2844\n",
            "Epoch: 19/20... Step: 2640... Loss: 1.2286... Val Loss: 1.2849\n",
            "Epoch: 20/20... Step: 2650... Loss: 1.2507... Val Loss: 1.2986\n",
            "Epoch: 20/20... Step: 2660... Loss: 1.2441... Val Loss: 1.2934\n",
            "Epoch: 20/20... Step: 2670... Loss: 1.2526... Val Loss: 1.2884\n",
            "Epoch: 20/20... Step: 2680... Loss: 1.2330... Val Loss: 1.2862\n",
            "Epoch: 20/20... Step: 2690... Loss: 1.2232... Val Loss: 1.2805\n",
            "Epoch: 20/20... Step: 2700... Loss: 1.2281... Val Loss: 1.2826\n",
            "Epoch: 20/20... Step: 2710... Loss: 1.2093... Val Loss: 1.2847\n",
            "Epoch: 20/20... Step: 2720... Loss: 1.2013... Val Loss: 1.2881\n",
            "Epoch: 20/20... Step: 2730... Loss: 1.1921... Val Loss: 1.2813\n",
            "Epoch: 20/20... Step: 2740... Loss: 1.1969... Val Loss: 1.2834\n",
            "Epoch: 20/20... Step: 2750... Loss: 1.2008... Val Loss: 1.2826\n",
            "Epoch: 20/20... Step: 2760... Loss: 1.1912... Val Loss: 1.2808\n",
            "Epoch: 20/20... Step: 2770... Loss: 1.2345... Val Loss: 1.2786\n",
            "Epoch: 20/20... Step: 2780... Loss: 1.2522... Val Loss: 1.2756\n"
          ],
          "name": "stdout"
        }
      ]
    },
    {
      "cell_type": "markdown",
      "metadata": {
        "id": "Ek3zWxUaabWI",
        "colab_type": "text"
      },
      "source": [
        "## Getting the best model\n",
        "\n",
        "To set your hyperparameters to get the best performance, you'll want to watch the training and validation losses. If your training loss is much lower than the validation loss, you're overfitting. Increase regularization (more dropout) or use a smaller network. If the training and validation losses are close, you're underfitting so you can increase the size of the network."
      ]
    },
    {
      "cell_type": "markdown",
      "metadata": {
        "id": "ZN58U4fqabWJ",
        "colab_type": "text"
      },
      "source": [
        "## Hyperparameters\n",
        "\n",
        "Here are the hyperparameters for the network.\n",
        "\n",
        "In defining the model:\n",
        "* `n_hidden` - The number of units in the hidden layers.\n",
        "* `n_layers` - Number of hidden LSTM layers to use.\n",
        "\n",
        "We assume that dropout probability and learning rate will be kept at the default, in this example.\n",
        "\n",
        "And in training:\n",
        "* `batch_size` - Number of sequences running through the network in one pass.\n",
        "* `seq_length` - Number of characters in the sequence the network is trained on. Larger is better typically, the network will learn more long range dependencies. But it takes longer to train. 100 is typically a good number here.\n",
        "* `lr` - Learning rate for training\n",
        "\n",
        "Here's some good advice from Andrej Karpathy on training the network. I'm going to copy it in here for your benefit, but also link to [where it originally came from](https://github.com/karpathy/char-rnn#tips-and-tricks).\n",
        "\n",
        "> ## Tips and Tricks\n",
        "\n",
        ">### Monitoring Validation Loss vs. Training Loss\n",
        ">If you're somewhat new to Machine Learning or Neural Networks it can take a bit of expertise to get good models. The most important quantity to keep track of is the difference between your training loss (printed during training) and the validation loss (printed once in a while when the RNN is run on the validation data (by default every 1000 iterations)). In particular:\n",
        "\n",
        "> - If your training loss is much lower than validation loss then this means the network might be **overfitting**. Solutions to this are to decrease your network size, or to increase dropout. For example you could try dropout of 0.5 and so on.\n",
        "> - If your training/validation loss are about equal then your model is **underfitting**. Increase the size of your model (either number of layers or the raw number of neurons per layer)\n",
        "\n",
        "> ### Approximate number of parameters\n",
        "\n",
        "> The two most important parameters that control the model are `n_hidden` and `n_layers`. I would advise that you always use `n_layers` of either 2/3. The `n_hidden` can be adjusted based on how much data you have. The two important quantities to keep track of here are:\n",
        "\n",
        "> - The number of parameters in your model. This is printed when you start training.\n",
        "> - The size of your dataset. 1MB file is approximately 1 million characters.\n",
        "\n",
        ">These two should be about the same order of magnitude. It's a little tricky to tell. Here are some examples:\n",
        "\n",
        "> - I have a 100MB dataset and I'm using the default parameter settings (which currently print 150K parameters). My data size is significantly larger (100 mil >> 0.15 mil), so I expect to heavily underfit. I am thinking I can comfortably afford to make `n_hidden` larger.\n",
        "> - I have a 10MB dataset and running a 10 million parameter model. I'm slightly nervous and I'm carefully monitoring my validation loss. If it's larger than my training loss then I may want to try to increase dropout a bit and see if that helps the validation loss.\n",
        "\n",
        "> ### Best models strategy\n",
        "\n",
        ">The winning strategy to obtaining very good models (if you have the compute time) is to always err on making the network larger (as large as you're willing to wait for it to compute) and then try different dropout values (between 0,1). Whatever model has the best validation performance (the loss, written in the checkpoint filename, low is good) is the one you should use in the end.\n",
        "\n",
        ">It is very common in deep learning to run many different models with many different hyperparameter settings, and in the end take whatever checkpoint gave the best validation performance.\n",
        "\n",
        ">By the way, the size of your training and validation splits are also parameters. Make sure you have a decent amount of data in your validation set or otherwise the validation performance will be noisy and not very informative."
      ]
    },
    {
      "cell_type": "markdown",
      "metadata": {
        "id": "Xe_RatJkabWJ",
        "colab_type": "text"
      },
      "source": [
        "## Checkpoint\n",
        "\n",
        "After training, we'll save the model so we can load it again later if we need too. Here I'm saving the parameters needed to create the same architecture, the hidden layer hyperparameters and the text characters."
      ]
    },
    {
      "cell_type": "code",
      "metadata": {
        "id": "L0VQodjgabWJ",
        "colab_type": "code",
        "colab": {}
      },
      "source": [
        "# change the name, for saving multiple files\n",
        "model_name = 'rnn_20_epoch.net'\n",
        "\n",
        "checkpoint = {'n_hidden': net.n_hidden,\n",
        "              'n_layers': net.n_layers,\n",
        "              'state_dict': net.state_dict(),\n",
        "              'tokens': net.chars}\n",
        "\n",
        "with open(model_name, 'wb') as f:\n",
        "    torch.save(checkpoint, f)"
      ],
      "execution_count": 18,
      "outputs": []
    },
    {
      "cell_type": "markdown",
      "metadata": {
        "id": "yVIbwxtDabWM",
        "colab_type": "text"
      },
      "source": [
        "---\n",
        "## Making Predictions\n",
        "\n",
        "Now that the model is trained, we'll want to sample from it and make predictions about next characters! To sample, we pass in a character and have the network predict the next character. Then we take that character, pass it back in, and get another predicted character. Just keep doing this and you'll generate a bunch of text!\n",
        "\n",
        "### A note on the `predict`  function\n",
        "\n",
        "The output of our RNN is from a fully-connected layer and it outputs a **distribution of next-character scores**.\n",
        "\n",
        "> To actually get the next character, we apply a softmax function, which gives us a *probability* distribution that we can then sample to predict the next character.\n",
        "\n",
        "### Top K sampling\n",
        "\n",
        "Our predictions come from a categorical probability distribution over all the possible characters. We can make the sample text and make it more reasonable to handle (with less variables) by only considering some $K$ most probable characters. This will prevent the network from giving us completely absurd characters while allowing it to introduce some noise and randomness into the sampled text. Read more about [topk, here](https://pytorch.org/docs/stable/torch.html#torch.topk).\n"
      ]
    },
    {
      "cell_type": "code",
      "metadata": {
        "id": "w5pUXxeNabWM",
        "colab_type": "code",
        "colab": {}
      },
      "source": [
        "def predict(net, char, h=None, top_k=None):\n",
        "        ''' Given a character, predict the next character.\n",
        "            Returns the predicted character and the hidden state.\n",
        "        '''\n",
        "        \n",
        "        # tensor inputs\n",
        "        x = np.array([[net.char2int[char]]])\n",
        "        x = one_hot_encode(x, len(net.chars))\n",
        "        inputs = torch.from_numpy(x)\n",
        "        \n",
        "        if(train_on_gpu):\n",
        "            inputs = inputs.cuda()\n",
        "        \n",
        "        # detach hidden state from history\n",
        "        h = tuple([each.data for each in h])\n",
        "        # get the output of the model\n",
        "        out, h = net(inputs, h)\n",
        "\n",
        "        # get the character probabilities\n",
        "        p = F.softmax(out, dim=1).data\n",
        "        if(train_on_gpu):\n",
        "            p = p.cpu() # move to cpu\n",
        "        \n",
        "        # get top characters\n",
        "        if top_k is None:\n",
        "            top_ch = np.arange(len(net.chars))\n",
        "        else:\n",
        "            p, top_ch = p.topk(top_k)\n",
        "            top_ch = top_ch.numpy().squeeze()\n",
        "        \n",
        "        # select the likely next character with some element of randomness\n",
        "        p = p.numpy().squeeze()\n",
        "        char = np.random.choice(top_ch, p=p/p.sum())\n",
        "        \n",
        "        # return the encoded value of the predicted char and the hidden state\n",
        "        return net.int2char[char], h"
      ],
      "execution_count": 19,
      "outputs": []
    },
    {
      "cell_type": "markdown",
      "metadata": {
        "id": "ERRTpIWRabWP",
        "colab_type": "text"
      },
      "source": [
        "### Priming and generating text \n",
        "\n",
        "Typically you'll want to prime the network so you can build up a hidden state. Otherwise the network will start out generating characters at random. In general the first bunch of characters will be a little rough since it hasn't built up a long history of characters to predict from."
      ]
    },
    {
      "cell_type": "code",
      "metadata": {
        "id": "g7-bDGWOabWP",
        "colab_type": "code",
        "colab": {}
      },
      "source": [
        "def sample(net, size, prime='The', top_k=None):\n",
        "        \n",
        "    if(train_on_gpu):\n",
        "        net.cuda()\n",
        "    else:\n",
        "        net.cpu()\n",
        "    \n",
        "    net.eval() # eval mode\n",
        "    \n",
        "    # First off, run through the prime characters\n",
        "    chars = [ch for ch in prime]\n",
        "    h = net.init_hidden(1)\n",
        "    for ch in prime:\n",
        "        char, h = predict(net, ch, h, top_k=top_k)\n",
        "\n",
        "    chars.append(char)\n",
        "    \n",
        "    # Now pass in the previous character and get a new one\n",
        "    for ii in range(size):\n",
        "        char, h = predict(net, chars[-1], h, top_k=top_k)\n",
        "        chars.append(char)\n",
        "\n",
        "    return ''.join(chars)"
      ],
      "execution_count": 20,
      "outputs": []
    },
    {
      "cell_type": "code",
      "metadata": {
        "id": "Ql8aum5MabWR",
        "colab_type": "code",
        "colab": {
          "base_uri": "https://localhost:8080/",
          "height": 286
        },
        "outputId": "20a61350-ad44-4377-80e2-456114fe4caa"
      },
      "source": [
        "print(sample(net, 1000, prime='Anna', top_k=5))"
      ],
      "execution_count": 21,
      "outputs": [
        {
          "output_type": "stream",
          "text": [
            "Anna, so she\n",
            "was to stop. He was disarrived, as a letter, who had been dropped\n",
            "to the feeling of all his white shook at the thought that they were though to\n",
            "her husband's confession of his wild the more to her, and still all the\n",
            "capital position in her simple that in the foetmen were the colonel and\n",
            "the calling and marshal signs, and and stepping on the face and\n",
            "shined. He was strange, by the proceedent was to be as soon. Surely\n",
            "without hear the face was had not become so such too. He had thinking of\n",
            "her fresh of that son with the same time, and tell me to see a card\n",
            "into his sister's sort. There was an engineral, and she was the same.\n",
            "Anna said in her houses to his brother, he clever, she had attracted\n",
            "himself were not to go to the storicity, and was not to\n",
            "be told her, and had the carriage and talked of his bidd and with his\n",
            "foreeg and an intracter, the cold composer was as though the members had\n",
            "been so looking at the peasants. But and that the princess were serriced\n",
            "before she seat to s\n"
          ],
          "name": "stdout"
        }
      ]
    },
    {
      "cell_type": "markdown",
      "metadata": {
        "id": "K1sZ7_q7abWU",
        "colab_type": "text"
      },
      "source": [
        "## Loading a checkpoint"
      ]
    },
    {
      "cell_type": "code",
      "metadata": {
        "id": "URU0nOi5abWU",
        "colab_type": "code",
        "colab": {
          "base_uri": "https://localhost:8080/",
          "height": 34
        },
        "outputId": "30e1dee6-2297-473a-855e-f1f29febf19f"
      },
      "source": [
        "# Here we have loaded in a model that trained over 20 epochs `rnn_20_epoch.net`\n",
        "with open('rnn_20_epoch.net', 'rb') as f:\n",
        "    checkpoint = torch.load(f)\n",
        "    \n",
        "loaded = CharRNN(checkpoint['tokens'], n_hidden=checkpoint['n_hidden'], n_layers=checkpoint['n_layers'])\n",
        "loaded.load_state_dict(checkpoint['state_dict'])"
      ],
      "execution_count": 22,
      "outputs": [
        {
          "output_type": "execute_result",
          "data": {
            "text/plain": [
              "<All keys matched successfully>"
            ]
          },
          "metadata": {
            "tags": []
          },
          "execution_count": 22
        }
      ]
    },
    {
      "cell_type": "code",
      "metadata": {
        "id": "NjRoS4ifabWX",
        "colab_type": "code",
        "colab": {
          "base_uri": "https://localhost:8080/",
          "height": 689
        },
        "outputId": "ef7fd2c9-1434-428b-a30a-1069670b7ab8"
      },
      "source": [
        "# Sample using a loaded model\n",
        "print(sample(loaded, 2000, top_k=5, prime=\"And Levin said\"))"
      ],
      "execution_count": 23,
      "outputs": [
        {
          "output_type": "stream",
          "text": [
            "And Levin said in\n",
            "which he was dressing her, when they were asking her hand, the possession\n",
            "in the country should not care about a low of the front that had a great\n",
            "successful and his father the moment to his solution, and stelling\n",
            "into her from her face. He caught the second country, the faint was\n",
            "their figure of shot into the carriage was nothing by that table of women\n",
            "was already, that she had been so standally freedunts. But the same\n",
            "time he forgot the forest was still more astingle of she conscious of serious\n",
            "feeling of times, and were so supposting the same time he had straight to\n",
            "blame. She did not know her. Sergey Ivanovitch heard an effort with\n",
            "the friends of second subjest, and she could not sen and had to see his\n",
            "words, when he came in to her as a long while.\n",
            "\n",
            "\"I would not have been the much, but in the prince was at home than the\n",
            "first precession of all the through one's boudow.\" She was assinnoning it\n",
            "her hands, her still man, smelled that he heard the country.\n",
            "\n",
            "\"I am afraid, he'll go. Having a lood of trings with the persons. We have not so\n",
            "much servants, but she would have been so means.\"\n",
            "\n",
            "\"I said, you know what it her best start of any offort to the conditions of\n",
            "all out of that that. The marshal to the servants and more,\" a count and\n",
            "the same desprinctivels was standing at acquaintancis,.\n",
            "\n",
            "\"What is there is the peasants of it.\"\n",
            "\n",
            "\"I shall be dining time and true, and there and marsh were a five wears of\n",
            "the same feeling. All that's not in her husband.\"\n",
            "\n",
            "\"No, I cannot give you?\"\n",
            "\n",
            "\"I don't know that here's a little call.\n",
            "\n",
            "\"I am never successful what has said. I was doing it all suddenly.,. He's\n",
            "a little of the personal condition of the feelings, I can't be an enjoy.\n",
            "What's a carriage of a stack, and and always should be intense of your\n",
            "father,\" said Levin, with her face and him, and her eyes he smarted at\n",
            "the crowd of a stepp on his will he was tried in a complexely disagreeable\n",
            "close. And show his weeks and waiting for an inquinity of time, and at the\n",
            "things, the mo\n"
          ],
          "name": "stdout"
        }
      ]
    },
    {
      "cell_type": "code",
      "metadata": {
        "id": "e00NYvBdabWa",
        "colab_type": "code",
        "colab": {}
      },
      "source": [
        ""
      ],
      "execution_count": 23,
      "outputs": []
    }
  ]
}