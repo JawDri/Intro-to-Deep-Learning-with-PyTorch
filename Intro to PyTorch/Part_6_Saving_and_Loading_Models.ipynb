{
  "nbformat": 4,
  "nbformat_minor": 0,
  "metadata": {
    "kernelspec": {
      "display_name": "Python 3",
      "language": "python",
      "name": "python3"
    },
    "language_info": {
      "codemirror_mode": {
        "name": "ipython",
        "version": 3
      },
      "file_extension": ".py",
      "mimetype": "text/x-python",
      "name": "python",
      "nbconvert_exporter": "python",
      "pygments_lexer": "ipython3",
      "version": "3.6.6"
    },
    "colab": {
      "name": "Part 6 - Saving and Loading Models.ipynb",
      "provenance": [],
      "toc_visible": true
    }
  },
  "cells": [
    {
      "cell_type": "markdown",
      "metadata": {
        "id": "_hWFOKumHK9W",
        "colab_type": "text"
      },
      "source": [
        "# Saving and Loading Models\n",
        "\n",
        "In this notebook, I'll show you how to save and load models with PyTorch. This is important because you'll often want to load previously trained models to use in making predictions or to continue training on new data."
      ]
    },
    {
      "cell_type": "code",
      "metadata": {
        "id": "EHtV7HYnHK9X",
        "colab_type": "code",
        "colab": {}
      },
      "source": [
        "%matplotlib inline\n",
        "%config InlineBackend.figure_format = 'retina'\n",
        "\n",
        "import matplotlib.pyplot as plt\n",
        "\n",
        "import torch\n",
        "from torch import nn\n",
        "from torch import optim\n",
        "import torch.nn.functional as F\n",
        "from torchvision import datasets, transforms\n",
        "\n",
        "import Helper\n",
        "import fc_model"
      ],
      "execution_count": 9,
      "outputs": []
    },
    {
      "cell_type": "code",
      "metadata": {
        "id": "Hyh7f5-zHK9b",
        "colab_type": "code",
        "colab": {}
      },
      "source": [
        "# Define a transform to normalize the data\n",
        "transform = transforms.Compose([transforms.ToTensor(),\n",
        "                                transforms.Normalize((0.5,), (0.5,))])\n",
        "# Download and load the training data\n",
        "trainset = datasets.FashionMNIST('~/.pytorch/F_MNIST_data/', download=True, train=True, transform=transform)\n",
        "trainloader = torch.utils.data.DataLoader(trainset, batch_size=64, shuffle=True)\n",
        "\n",
        "# Download and load the test data\n",
        "testset = datasets.FashionMNIST('~/.pytorch/F_MNIST_data/', download=True, train=False, transform=transform)\n",
        "testloader = torch.utils.data.DataLoader(testset, batch_size=64, shuffle=True)"
      ],
      "execution_count": 7,
      "outputs": []
    },
    {
      "cell_type": "markdown",
      "metadata": {
        "id": "RjjiIrfoHK9d",
        "colab_type": "text"
      },
      "source": [
        "Here we can see one of the images."
      ]
    },
    {
      "cell_type": "code",
      "metadata": {
        "id": "v8XIILFTHK9e",
        "colab_type": "code",
        "colab": {
          "base_uri": "https://localhost:8080/",
          "height": 248
        },
        "outputId": "eed151fe-3c85-4820-bc09-f7dcc29b814f"
      },
      "source": [
        "image, label = next(iter(trainloader))\n",
        "Helper.imshow(image[0,:]);"
      ],
      "execution_count": 10,
      "outputs": [
        {
          "output_type": "display_data",
          "data": {
            "image/png": "[encoded data removed]",
            "text/plain": [
              "<Figure size 432x288 with 1 Axes>"
            ]
          },
          "metadata": {
            "tags": [],
            "image/png": {
              "width": 231,
              "height": 231
            },
            "needs_background": "light"
          }
        }
      ]
    },
    {
      "cell_type": "markdown",
      "metadata": {
        "id": "SOh5ycpmHK9h",
        "colab_type": "text"
      },
      "source": [
        "# Train a network\n",
        "\n",
        "To make things more concise here, I moved the model architecture and training code from the last part to a file called `fc_model`. Importing this, we can easily create a fully-connected network with `fc_model.Network`, and train the network using `fc_model.train`. I'll use this model (once it's trained) to demonstrate how we can save and load models."
      ]
    },
    {
      "cell_type": "code",
      "metadata": {
        "id": "eiPH-qh9HK9i",
        "colab_type": "code",
        "colab": {}
      },
      "source": [
        "# Create the network, define the criterion and optimizer\n",
        "\n",
        "model = fc_model.Network(784, 10, [512, 256, 128])\n",
        "criterion = nn.NLLLoss()\n",
        "optimizer = optim.Adam(model.parameters(), lr=0.001)"
      ],
      "execution_count": 11,
      "outputs": []
    },
    {
      "cell_type": "code",
      "metadata": {
        "id": "FbmgXA-rHK9l",
        "colab_type": "code",
        "colab": {
          "base_uri": "https://localhost:8080/",
          "height": 790
        },
        "outputId": "8a7e2f4e-9eb3-42f6-8c2a-8f16b7157a66"
      },
      "source": [
        "fc_model.train(model, trainloader, testloader, criterion, optimizer, epochs=2)"
      ],
      "execution_count": 12,
      "outputs": [
        {
          "output_type": "stream",
          "text": [
            "Epoch: 1/2..  Training Loss: 1.758..  Test Loss: 0.971..  Test Accuracy: 0.677\n",
            "Epoch: 1/2..  Training Loss: 1.042..  Test Loss: 0.777..  Test Accuracy: 0.713\n",
            "Epoch: 1/2..  Training Loss: 0.852..  Test Loss: 0.695..  Test Accuracy: 0.746\n",
            "Epoch: 1/2..  Training Loss: 0.795..  Test Loss: 0.644..  Test Accuracy: 0.752\n",
            "Epoch: 1/2..  Training Loss: 0.738..  Test Loss: 0.627..  Test Accuracy: 0.756\n",
            "Epoch: 1/2..  Training Loss: 0.721..  Test Loss: 0.609..  Test Accuracy: 0.771\n",
            "Epoch: 1/2..  Training Loss: 0.743..  Test Loss: 0.608..  Test Accuracy: 0.773\n",
            "Epoch: 1/2..  Training Loss: 0.688..  Test Loss: 0.597..  Test Accuracy: 0.781\n",
            "Epoch: 1/2..  Training Loss: 0.656..  Test Loss: 0.557..  Test Accuracy: 0.790\n",
            "Epoch: 1/2..  Training Loss: 0.642..  Test Loss: 0.548..  Test Accuracy: 0.800\n",
            "Epoch: 1/2..  Training Loss: 0.631..  Test Loss: 0.524..  Test Accuracy: 0.812\n",
            "Epoch: 1/2..  Training Loss: 0.637..  Test Loss: 0.563..  Test Accuracy: 0.802\n",
            "Epoch: 1/2..  Training Loss: 0.652..  Test Loss: 0.521..  Test Accuracy: 0.808\n",
            "Epoch: 1/2..  Training Loss: 0.634..  Test Loss: 0.544..  Test Accuracy: 0.795\n",
            "Epoch: 1/2..  Training Loss: 0.622..  Test Loss: 0.503..  Test Accuracy: 0.810\n",
            "Epoch: 1/2..  Training Loss: 0.581..  Test Loss: 0.514..  Test Accuracy: 0.816\n",
            "Epoch: 1/2..  Training Loss: 0.580..  Test Loss: 0.532..  Test Accuracy: 0.805\n",
            "Epoch: 1/2..  Training Loss: 0.545..  Test Loss: 0.497..  Test Accuracy: 0.815\n",
            "Epoch: 1/2..  Training Loss: 0.559..  Test Loss: 0.493..  Test Accuracy: 0.821\n",
            "Epoch: 1/2..  Training Loss: 0.586..  Test Loss: 0.490..  Test Accuracy: 0.823\n",
            "Epoch: 1/2..  Training Loss: 0.590..  Test Loss: 0.486..  Test Accuracy: 0.819\n",
            "Epoch: 1/2..  Training Loss: 0.579..  Test Loss: 0.480..  Test Accuracy: 0.826\n",
            "Epoch: 1/2..  Training Loss: 0.553..  Test Loss: 0.496..  Test Accuracy: 0.813\n",
            "Epoch: 2/2..  Training Loss: 0.557..  Test Loss: 0.479..  Test Accuracy: 0.824\n",
            "Epoch: 2/2..  Training Loss: 0.565..  Test Loss: 0.478..  Test Accuracy: 0.829\n",
            "Epoch: 2/2..  Training Loss: 0.569..  Test Loss: 0.478..  Test Accuracy: 0.827\n",
            "Epoch: 2/2..  Training Loss: 0.568..  Test Loss: 0.482..  Test Accuracy: 0.827\n",
            "Epoch: 2/2..  Training Loss: 0.510..  Test Loss: 0.453..  Test Accuracy: 0.834\n",
            "Epoch: 2/2..  Training Loss: 0.550..  Test Loss: 0.463..  Test Accuracy: 0.830\n",
            "Epoch: 2/2..  Training Loss: 0.567..  Test Loss: 0.475..  Test Accuracy: 0.834\n",
            "Epoch: 2/2..  Training Loss: 0.481..  Test Loss: 0.476..  Test Accuracy: 0.826\n",
            "Epoch: 2/2..  Training Loss: 0.542..  Test Loss: 0.457..  Test Accuracy: 0.831\n",
            "Epoch: 2/2..  Training Loss: 0.494..  Test Loss: 0.462..  Test Accuracy: 0.830\n",
            "Epoch: 2/2..  Training Loss: 0.535..  Test Loss: 0.480..  Test Accuracy: 0.829\n",
            "Epoch: 2/2..  Training Loss: 0.541..  Test Loss: 0.472..  Test Accuracy: 0.832\n",
            "Epoch: 2/2..  Training Loss: 0.571..  Test Loss: 0.488..  Test Accuracy: 0.827\n",
            "Epoch: 2/2..  Training Loss: 0.526..  Test Loss: 0.444..  Test Accuracy: 0.839\n",
            "Epoch: 2/2..  Training Loss: 0.536..  Test Loss: 0.456..  Test Accuracy: 0.834\n",
            "Epoch: 2/2..  Training Loss: 0.520..  Test Loss: 0.454..  Test Accuracy: 0.834\n",
            "Epoch: 2/2..  Training Loss: 0.548..  Test Loss: 0.465..  Test Accuracy: 0.837\n",
            "Epoch: 2/2..  Training Loss: 0.518..  Test Loss: 0.470..  Test Accuracy: 0.825\n",
            "Epoch: 2/2..  Training Loss: 0.525..  Test Loss: 0.466..  Test Accuracy: 0.835\n",
            "Epoch: 2/2..  Training Loss: 0.499..  Test Loss: 0.448..  Test Accuracy: 0.834\n",
            "Epoch: 2/2..  Training Loss: 0.541..  Test Loss: 0.463..  Test Accuracy: 0.836\n",
            "Epoch: 2/2..  Training Loss: 0.504..  Test Loss: 0.455..  Test Accuracy: 0.833\n",
            "Epoch: 2/2..  Training Loss: 0.531..  Test Loss: 0.447..  Test Accuracy: 0.831\n"
          ],
          "name": "stdout"
        }
      ]
    },
    {
      "cell_type": "markdown",
      "metadata": {
        "id": "UDvOkeY0HK9p",
        "colab_type": "text"
      },
      "source": [
        "## Saving and loading networks\n",
        "\n",
        "As you can imagine, it's impractical to train a network every time you need to use it. Instead, we can save trained networks then load them later to train more or use them for predictions.\n",
        "\n",
        "The parameters for PyTorch networks are stored in a model's `state_dict`. We can see the state dict contains the weight and bias matrices for each of our layers."
      ]
    },
    {
      "cell_type": "code",
      "metadata": {
        "id": "T_4HmqW5HK9q",
        "colab_type": "code",
        "colab": {
          "base_uri": "https://localhost:8080/",
          "height": 289
        },
        "outputId": "f329371e-e006-4d2e-ba2f-c32f1ce4e9ab"
      },
      "source": [
        "print(\"Our model: \\n\\n\", model, '\\n')\n",
        "print(\"The state dict keys: \\n\\n\", model.state_dict().keys())"
      ],
      "execution_count": 13,
      "outputs": [
        {
          "output_type": "stream",
          "text": [
            "Our model: \n",
            "\n",
            " Network(\n",
            "  (hidden_layers): ModuleList(\n",
            "    (0): Linear(in_features=784, out_features=512, bias=True)\n",
            "    (1): Linear(in_features=512, out_features=256, bias=True)\n",
            "    (2): Linear(in_features=256, out_features=128, bias=True)\n",
            "  )\n",
            "  (output): Linear(in_features=128, out_features=10, bias=True)\n",
            "  (dropout): Dropout(p=0.5, inplace=False)\n",
            ") \n",
            "\n",
            "The state dict keys: \n",
            "\n",
            " odict_keys(['hidden_layers.0.weight', 'hidden_layers.0.bias', 'hidden_layers.1.weight', 'hidden_layers.1.bias', 'hidden_layers.2.weight', 'hidden_layers.2.bias', 'output.weight', 'output.bias'])\n"
          ],
          "name": "stdout"
        }
      ]
    },
    {
      "cell_type": "markdown",
      "metadata": {
        "id": "x_Kak5rEHK9u",
        "colab_type": "text"
      },
      "source": [
        "The simplest thing to do is simply save the state dict with `torch.save`. For example, we can save it to a file `'checkpoint.pth'`."
      ]
    },
    {
      "cell_type": "code",
      "metadata": {
        "id": "kBfDW5CEHK9v",
        "colab_type": "code",
        "colab": {}
      },
      "source": [
        "torch.save(model.state_dict(), 'checkpoint.pth')"
      ],
      "execution_count": 14,
      "outputs": []
    },
    {
      "cell_type": "markdown",
      "metadata": {
        "id": "YMO6swjyHK9x",
        "colab_type": "text"
      },
      "source": [
        "Then we can load the state dict with `torch.load`."
      ]
    },
    {
      "cell_type": "code",
      "metadata": {
        "id": "iuAwyikOHK9y",
        "colab_type": "code",
        "colab": {
          "base_uri": "https://localhost:8080/",
          "height": 54
        },
        "outputId": "2cf41679-c883-4b93-bd92-e4a936f58958"
      },
      "source": [
        "state_dict = torch.load('checkpoint.pth')\n",
        "print(state_dict.keys())"
      ],
      "execution_count": 15,
      "outputs": [
        {
          "output_type": "stream",
          "text": [
            "odict_keys(['hidden_layers.0.weight', 'hidden_layers.0.bias', 'hidden_layers.1.weight', 'hidden_layers.1.bias', 'hidden_layers.2.weight', 'hidden_layers.2.bias', 'output.weight', 'output.bias'])\n"
          ],
          "name": "stdout"
        }
      ]
    },
    {
      "cell_type": "markdown",
      "metadata": {
        "id": "nV_V1Pd_HK90",
        "colab_type": "text"
      },
      "source": [
        "And to load the state dict in to the network, you do `model.load_state_dict(state_dict)`."
      ]
    },
    {
      "cell_type": "code",
      "metadata": {
        "id": "PH4CV23BHK91",
        "colab_type": "code",
        "colab": {
          "base_uri": "https://localhost:8080/",
          "height": 34
        },
        "outputId": "cb314b62-0a37-41e1-a84e-4edc8b502a31"
      },
      "source": [
        "model.load_state_dict(state_dict)"
      ],
      "execution_count": 16,
      "outputs": [
        {
          "output_type": "execute_result",
          "data": {
            "text/plain": [
              "<All keys matched successfully>"
            ]
          },
          "metadata": {
            "tags": []
          },
          "execution_count": 16
        }
      ]
    },
    {
      "cell_type": "markdown",
      "metadata": {
        "id": "RLXGhOP7HK93",
        "colab_type": "text"
      },
      "source": [
        "Seems pretty straightforward, but as usual it's a bit more complicated. Loading the state dict works only if the model architecture is exactly the same as the checkpoint architecture. If I create a model with a different architecture, this fails."
      ]
    },
    {
      "cell_type": "code",
      "metadata": {
        "id": "aR0X5NCOHK94",
        "colab_type": "code",
        "colab": {}
      },
      "source": [
        "# Try this\n",
        "model = fc_model.Network(784, 10, [400, 200, 100])\n",
        "# This will throw an error because the tensor sizes are wrong!\n",
        "#model.load_state_dict(state_dict)"
      ],
      "execution_count": 19,
      "outputs": []
    },
    {
      "cell_type": "markdown",
      "metadata": {
        "id": "HAnMGqNbHK97",
        "colab_type": "text"
      },
      "source": [
        "This means we need to rebuild the model exactly as it was when trained. Information about the model architecture needs to be saved in the checkpoint, along with the state dict. To do this, you build a dictionary with all the information you need to compeletely rebuild the model."
      ]
    },
    {
      "cell_type": "code",
      "metadata": {
        "id": "HO_6kKaTHK97",
        "colab_type": "code",
        "colab": {}
      },
      "source": [
        "checkpoint = {'input_size': 784,\n",
        "              'output_size': 10,\n",
        "              'hidden_layers': [each.out_features for each in model.hidden_layers],\n",
        "              'state_dict': model.state_dict()}\n",
        "\n",
        "torch.save(checkpoint, 'checkpoint.pth')"
      ],
      "execution_count": 20,
      "outputs": []
    },
    {
      "cell_type": "markdown",
      "metadata": {
        "id": "XqFFnlKZHK9-",
        "colab_type": "text"
      },
      "source": [
        "Now the checkpoint has all the necessary information to rebuild the trained model. You can easily make that a function if you want. Similarly, we can write a function to load checkpoints. "
      ]
    },
    {
      "cell_type": "code",
      "metadata": {
        "id": "Xfnt9R6THK9-",
        "colab_type": "code",
        "colab": {}
      },
      "source": [
        "def load_checkpoint(filepath):\n",
        "    checkpoint = torch.load(filepath)\n",
        "    model = fc_model.Network(checkpoint['input_size'],\n",
        "                             checkpoint['output_size'],\n",
        "                             checkpoint['hidden_layers'])\n",
        "    model.load_state_dict(checkpoint['state_dict'])\n",
        "    \n",
        "    return model"
      ],
      "execution_count": 21,
      "outputs": []
    },
    {
      "cell_type": "code",
      "metadata": {
        "id": "dQ9gtGk3HK-A",
        "colab_type": "code",
        "colab": {
          "base_uri": "https://localhost:8080/",
          "height": 168
        },
        "outputId": "2f829d33-44c2-4d1e-8701-7f2df98d2597"
      },
      "source": [
        "model = load_checkpoint('checkpoint.pth')\n",
        "print(model)"
      ],
      "execution_count": 22,
      "outputs": [
        {
          "output_type": "stream",
          "text": [
            "Network(\n",
            "  (hidden_layers): ModuleList(\n",
            "    (0): Linear(in_features=784, out_features=400, bias=True)\n",
            "    (1): Linear(in_features=400, out_features=200, bias=True)\n",
            "    (2): Linear(in_features=200, out_features=100, bias=True)\n",
            "  )\n",
            "  (output): Linear(in_features=100, out_features=10, bias=True)\n",
            "  (dropout): Dropout(p=0.5, inplace=False)\n",
            ")\n"
          ],
          "name": "stdout"
        }
      ]
    }
  ]
}